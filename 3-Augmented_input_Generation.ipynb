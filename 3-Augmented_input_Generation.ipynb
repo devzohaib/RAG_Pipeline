{
 "cells": [
  {
   "cell_type": "markdown",
   "metadata": {},
   "source": [
    "### Embedding-Based Retrieval with Deep Lake and OpenAI\n",
    "\n",
    "Augmented generation is the third pipeline component. We will use the data\n",
    "we retrieved to augment the user input. This component processes the user\n",
    "input, queries the vector store, augments the input, and calls gpt-4-turbo.\n"
   ]
  },
  {
   "cell_type": "code",
   "execution_count": 12,
   "metadata": {},
   "outputs": [],
   "source": [
    "from deeplake.core.vectorstore.deeplake_vectorstore import VectorStore\n",
    "import deeplake.util\n",
    "from openai import OpenAI\n",
    "from dotenv import load_dotenv\n",
    "\n",
    "load_dotenv()\n",
    "# Initialize OpenAI client\n",
    "client = OpenAI()  # Assumes API key is set in env variables or ~/.openai_key\n"
   ]
  },
  {
   "cell_type": "code",
   "execution_count": 19,
   "metadata": {},
   "outputs": [
    {
     "name": "stdout",
     "output_type": "stream",
     "text": [
      "Deep Lake Dataset in ./space_exploration_v1 already exists, loading from the storage\n"
     ]
    }
   ],
   "source": [
    "vector_store_path = \"./space_exploration_v1\"\n",
    "vector_store = VectorStore(path=vector_store_path)"
   ]
  },
  {
   "cell_type": "code",
   "execution_count": null,
   "metadata": {},
   "outputs": [],
   "source": []
  },
  {
   "cell_type": "markdown",
   "metadata": {},
   "source": [
    "### Input and Query Retrieval"
   ]
  },
  {
   "cell_type": "code",
   "execution_count": 20,
   "metadata": {},
   "outputs": [],
   "source": [
    "def embedding_function(texts, model=\"text-embedding-3-small\"):\n",
    "    \"\"\"Generates embeddings for input texts using OpenAI API.\"\"\"\n",
    "\n",
    "    if isinstance(texts, str):\n",
    "        texts = [texts]  # Convert single string to list\n",
    "\n",
    "    texts = [t.replace(\"\\n\", \" \") for t in texts]  # Remove newlines\n",
    "\n",
    "    try:\n",
    "        response = client.embeddings.create(\n",
    "            model=model,\n",
    "            input=texts  \n",
    "        )\n",
    "\n",
    "        embeddings = [data.embedding for data in response.data]  # Extract embeddings\n",
    "        return embeddings\n",
    "\n",
    "    except Exception as e:\n",
    "        print(f\"Error generating embeddings: {e}\")\n",
    "        return None\n"
   ]
  },
  {
   "cell_type": "code",
   "execution_count": null,
   "metadata": {},
   "outputs": [
    {
     "name": "stdout",
     "output_type": "stream",
     "text": [
      "{'score': [0.5991874933242798, 0.5692877173423767, 0.566982626914978, 0.5609710216522217], 'id': ['11fc102b-ebe6-11ef-ba44-34cff639d662', '11fc8f80-ebe6-11ef-a4bc-34cff639d662', '11fc103d-ebe6-11ef-b621-34cff639d662', '11fdd598-ebe6-11ef-9519-34cff639d662'], 'metadata': [{'source': 'llm.txt'}, {'source': 'llm.txt'}, {'source': 'llm.txt'}, {'source': 'llm.txt'}], 'text': ['Exploration of space, planets, and moons \"Space Exploration\" redirects here. For the company, see SpaceX . For broader coverage of this topic, see Exploration . Buzz Aldrin taking a core sample of the Moon during the Apollo 11 mission Self-portrait of Curiosity rover on Mars \\'s surface Part of a series on Spaceflight History History of spaceflight Space Race Timeline of spaceflight Space probes Lunar missions Mars missions Applications Communications Earth observation Exploration Espionage Military Navigation Colonization Habitation Exploration Telescopes Tourism Spacecraft Robotic spacecraft Satellite Space probe Cargo spacecraft Crewed spacecraft Apollo Lunar Module Space capsules Space Shuttle Space stations Spaceplanes Vostok Space launch Spaceport Launch pad Expendable and reusable launch vehicles Escape velocity Non-rocket spacelaunch Spaceflight types Sub-orbital Orbital Interplanetary Interstellar Intergalactic List of space organizations Space agencies Space forces Companies S', '\" We choose to go to the Moon \" Apollo 8 Genesis reading Apollo 15 postal covers incident Apollo Lunar Module Space Mirror Memorial The Astronaut Monument Lunar sample displays Moon rocks stolen or missing U.S. Astronaut Hall of Fame Space program on U.S. stamps Apollo 17 Moon mice Moon tree Other primates in space NASA International Space Apps Challenge Astronauts Day National Astronaut Day Nikon NASA F4 Category Commons v t e NASA planetary exploration programs Active Large strategic science missions Lunar Discovery & Exploration Mars Exploration Planetary Missions Discovery New Frontiers Solar System Exploration Ocean Worlds Exploration Voyager Completed Lunar Orbiter Lunar Precursor Mariner MESUR New Millennium Pioneer Planetary Observer Ranger Surveyor Viking Cancelled Grand Tour Mariner Mark II Project Prometheus Voyager (Mars) List of NASA missions v t e Flagship Program Planetary Science Division Past Viking 1, 2 Galileo Cassini–Huygens Current Mars Science Laboratory / Curiosi', ' lunar landing since Apollo 17 with it scheduled for launch no earlier than 2026. Robotic missions are still pursued vigorously. Mars [ edit ] Main article: Exploration of Mars Surface of Mars by the Spirit rover (2004) The exploration of Mars has been an important part of the space exploration programs of the Soviet Union (later Russia), the United States, Europe, Japan and India. Dozens of robotic spacecraft , including orbiters , landers , and rovers , have been launched toward Mars since the 1960s. These missions were aimed at gathering data about current conditions and answering questions about the history of Mars. The questions raised by the scientific community are expected to not only give a better appreciation of the Red Planet but also yield further insight into the past, and possible future, of Earth. The exploration of Mars has come at a considerable financial cost with roughly two-thirds of all spacecraft destined for Mars failing before completing their missions, with som', 'Orbiter Pioneer Planetary Observer Ranger Surveyor Viking Project Prometheus Mars Exploration Mars Exploration Rover Current Living With a Star Lunar Precursor Robotic Program Earth Observing System Great Observatories program Explorers Voyager Discovery New Frontiers Solar Terrestrial Probes Commercial Lunar Payload Services SIMPLEx Individual featured missions (human and robotic) Past Apollo 11 COBE Mercury 3 Mercury-Atlas 6 Magellan Pioneer 10 Pioneer 11 Galileo timeline GALEX GRAIL WMAP Space Shuttle Spitzer Space Telescope Sojourner rover Spirit rover LADEE MESSENGER Aquarius Cassini Dawn Kepler space telescope Opportunity rover timeline observed RHESSI InSight Ingenuity helicopter flights Currently operating Mars Reconnaissance Orbiter 2001 Mars Odyssey New Horizons International Space Station Hubble Space Telescope Swift THEMIS Mars Exploration Rover Curiosity rover timeline GOES 14 Lunar Reconnaissance Orbiter GOES 15 Van Allen Probes Solar Dynamics Observatory Juno Mars Scienc']}\n"
     ]
    }
   ],
   "source": [
    "def get_user_prompt():\n",
    "    # Request user input for the search prompt\n",
    "    return input(\"Enter your search query: \")\n",
    "\n",
    "def search_query(prompt):\n",
    "    # Assuming `vector_store` as ds and `embedding_function` are already defined\n",
    "    search_results = vector_store.search(embedding_data=prompt, embedding_function=embedding_function)\n",
    "    return search_results\n",
    "\n",
    "# Get the user's search query\n",
    "#user_prompt = get_user_prompt()\n",
    "\n",
    "user_prompt=\"Tell me about space exploration on the Moon and Mars.\"\n",
    "\n",
    "# Perform the search\n",
    "search_results = search_query(user_prompt)\n",
    "\n",
    "# Print the search results\n",
    "print(search_results)"
   ]
  },
  {
   "cell_type": "code",
   "execution_count": 22,
   "metadata": {},
   "outputs": [],
   "source": [
    "# Function to wrap text to a specified width\n",
    "def wrap_text(text, width=80):\n",
    "    lines = []\n",
    "    while len(text) > width:\n",
    "        split_index = text.rfind(' ', 0, width)\n",
    "        if split_index == -1:\n",
    "            split_index = width\n",
    "        lines.append(text[:split_index])\n",
    "        text = text[split_index:].strip()\n",
    "    lines.append(text)\n",
    "    return '\\n'.join(lines)"
   ]
  },
  {
   "cell_type": "code",
   "execution_count": 23,
   "metadata": {},
   "outputs": [
    {
     "name": "stdout",
     "output_type": "stream",
     "text": [
      "Top Search Result:\n",
      "Score: 0.5991874933242798\n",
      "Source: llm.txt\n",
      "Text:\n",
      "Exploration of space, planets, and moons \"Space Exploration\" redirects here.\n",
      "For the company, see SpaceX . For broader coverage of this topic, see\n",
      "Exploration . Buzz Aldrin taking a core sample of the Moon during the Apollo 11\n",
      "mission Self-portrait of Curiosity rover on Mars 's surface Part of a series on\n",
      "Spaceflight History History of spaceflight Space Race Timeline of spaceflight\n",
      "Space probes Lunar missions Mars missions Applications Communications Earth\n",
      "observation Exploration Espionage Military Navigation Colonization Habitation\n",
      "Exploration Telescopes Tourism Spacecraft Robotic spacecraft Satellite Space\n",
      "probe Cargo spacecraft Crewed spacecraft Apollo Lunar Module Space capsules\n",
      "Space Shuttle Space stations Spaceplanes Vostok Space launch Spaceport Launch\n",
      "pad Expendable and reusable launch vehicles Escape velocity Non-rocket\n",
      "spacelaunch Spaceflight types Sub-orbital Orbital Interplanetary Interstellar\n",
      "Intergalactic List of space organizations Space agencies Space forces Companies\n",
      "S\n"
     ]
    }
   ],
   "source": [
    "\n",
    "# Assuming the search results are ordered with the top result first\n",
    "top_score = search_results['score'][0]\n",
    "top_text = search_results['text'][0].strip()\n",
    "top_metadata = search_results['metadata'][0]['source']\n",
    "\n",
    "# Print the top search result\n",
    "print(\"Top Search Result:\")\n",
    "print(f\"Score: {top_score}\")\n",
    "print(f\"Source: {top_metadata}\")\n",
    "print(\"Text:\")\n",
    "print(wrap_text(top_text))"
   ]
  },
  {
   "cell_type": "markdown",
   "metadata": {},
   "source": [
    "### Augmented Input"
   ]
  },
  {
   "cell_type": "code",
   "execution_count": 24,
   "metadata": {},
   "outputs": [],
   "source": [
    "augmented_input=user_prompt+\" \"+top_text"
   ]
  },
  {
   "cell_type": "code",
   "execution_count": 25,
   "metadata": {},
   "outputs": [
    {
     "name": "stdout",
     "output_type": "stream",
     "text": [
      "Tell me about space exploration on the Moon and Mars. Exploration of space, planets, and moons \"Space Exploration\" redirects here. For the company, see SpaceX . For broader coverage of this topic, see Exploration . Buzz Aldrin taking a core sample of the Moon during the Apollo 11 mission Self-portrait of Curiosity rover on Mars 's surface Part of a series on Spaceflight History History of spaceflight Space Race Timeline of spaceflight Space probes Lunar missions Mars missions Applications Communications Earth observation Exploration Espionage Military Navigation Colonization Habitation Exploration Telescopes Tourism Spacecraft Robotic spacecraft Satellite Space probe Cargo spacecraft Crewed spacecraft Apollo Lunar Module Space capsules Space Shuttle Space stations Spaceplanes Vostok Space launch Spaceport Launch pad Expendable and reusable launch vehicles Escape velocity Non-rocket spacelaunch Spaceflight types Sub-orbital Orbital Interplanetary Interstellar Intergalactic List of space organizations Space agencies Space forces Companies S\n"
     ]
    }
   ],
   "source": [
    "print(augmented_input)"
   ]
  },
  {
   "cell_type": "markdown",
   "metadata": {},
   "source": [
    "### Generation and output"
   ]
  },
  {
   "cell_type": "code",
   "execution_count": 26,
   "metadata": {},
   "outputs": [
    {
     "name": "stdout",
     "output_type": "stream",
     "text": [
      "Response Time: 7.73 seconds\n",
      "gpt-4o Response: Space exploration on the Moon and Mars has been a significant focus of scientific and technological efforts, driven by the desire to understand more about our solar system and the potential for human habitation beyond Earth.\n",
      "\n",
      "### Moon Exploration:\n",
      "1. **Historical Context**: The Moon was the first celestial body beyond Earth to be visited by humans. The Apollo missions, particularly Apollo 11 in 1969, marked a monumental achievement with astronauts like Buzz Aldrin collecting lunar samples.\n",
      "2. **Scientific Goals**: Lunar exploration aims to study the Moon's geology, understand its formation, and use it as a platform for further space exploration. The Moon's surface provides insights into the early solar system.\n",
      "3. **Current and Future Missions**: Recent missions have focused on mapping the Moon's surface, searching for water ice, and preparing for potential human return. NASA's Artemis program aims to land \"the first woman and the next man\" on the Moon by the mid-2020s.\n",
      "\n",
      "### Mars Exploration:\n",
      "1. **Robotic Missions**: Mars has been explored extensively by robotic missions, including orbiters, landers, and rovers. Notable missions include NASA's Curiosity and Perseverance rovers, which study the planet's geology and search for signs of past life.\n",
      "2. **Scientific Objectives**: Mars exploration seeks to understand the planet's climate and geology, assess its past habitability, and prepare for future human missions. The presence of water ice and past evidence of liquid water make Mars a prime candidate for studying potential life beyond Earth.\n",
      "3. **Human Exploration**: Plans for human missions to Mars are being developed, with challenges including long-duration space travel, life support systems, and surface operations. Organizations like NASA and SpaceX are actively working on technologies to enable human exploration of Mars.\n",
      "\n",
      "### Broader Context of Space Exploration:\n",
      "- **Spacecraft and Technology**: Space exploration relies on various spacecraft, including robotic probes, satellites, and crewed vehicles. Innovations in reusable launch vehicles, like those developed by SpaceX, are reducing costs and increasing access to space.\n",
      "- **Applications**: Beyond exploration, space technology supports communications, Earth observation, navigation, and even tourism. The International Space Station serves as a hub for scientific research and international cooperation.\n",
      "- **Future Prospects**: The future of space exploration includes potential colonization and habitation of other celestial bodies, development of space-based telescopes, and the expansion of commercial space activities.\n",
      "\n",
      "Overall, space exploration of the Moon and Mars represents humanity's quest to expand its presence in the solar system, driven by scientific curiosity, technological innovation, and the potential for future human settlement.\n"
     ]
    }
   ],
   "source": [
    "import openai\n",
    "from openai import OpenAI\n",
    "import time\n",
    "\n",
    "client = OpenAI()\n",
    "gpt_model=\"gpt-4o\"\n",
    "start_time = time.time()  # Start timing before the request\n",
    "\n",
    "def call_gpt4_with_full_text(itext):\n",
    "    # Join all lines to form a single string\n",
    "    text_input = '\\n'.join(itext)\n",
    "    prompt = f\"Please summarize or elaborate on the following content:\\n{text_input}\"\n",
    "\n",
    "    try:\n",
    "        response = client.chat.completions.create(\n",
    "            model=gpt_model,\n",
    "            messages=[\n",
    "                {\"role\": \"system\", \"content\": \"You are a space exploration expert.\"},\n",
    "                {\"role\": \"assistant\", \"content\": \"You can read the input and answer in detail.\"},\n",
    "                {\"role\": \"user\", \"content\": prompt}\n",
    "            ],\n",
    "            temperature=0.1  # Fine-tune parameters as needed\n",
    "        )\n",
    "        return response.choices[0].message.content\n",
    "    except Exception as e:\n",
    "        return str(e)\n",
    "\n",
    "gpt4_response = call_gpt4_with_full_text(augmented_input)\n",
    "\n",
    "response_time = time.time() - start_time  # Measure response time\n",
    "print(f\"Response Time: {response_time:.2f} seconds\")  # Print response time\n",
    "\n",
    "print(gpt_model, \"Response:\", gpt4_response)"
   ]
  }
 ],
 "metadata": {
  "kernelspec": {
   "display_name": "py3_11",
   "language": "python",
   "name": "python3"
  },
  "language_info": {
   "codemirror_mode": {
    "name": "ipython",
    "version": 3
   },
   "file_extension": ".py",
   "mimetype": "text/x-python",
   "name": "python",
   "nbconvert_exporter": "python",
   "pygments_lexer": "ipython3",
   "version": "3.11.11"
  }
 },
 "nbformat": 4,
 "nbformat_minor": 2
}
